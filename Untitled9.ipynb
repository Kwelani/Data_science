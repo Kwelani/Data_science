{
 "cells": [
  {
   "cell_type": "code",
   "execution_count": null,
   "id": "e1f0defb-51f4-47e7-85a9-5a558c32ada6",
   "metadata": {},
   "outputs": [],
   "source": [
    "# Quiz on Functions"
   ]
  },
  {
   "cell_type": "code",
   "execution_count": 4,
   "id": "aa2532d7-0c4f-4e30-8777-0e758d53f2fd",
   "metadata": {},
   "outputs": [
    {
     "data": {
      "text/plain": [
       "4.0"
      ]
     },
     "execution_count": 4,
     "metadata": {},
     "output_type": "execute_result"
    }
   ],
   "source": [
    "# A function that divides the first input by the second input\n",
    "def divide_numbers(a,b):\n",
    "    \"\"\"divide a by b\"\"\"\n",
    "\n",
    "    return(a/b)\n",
    "divide_numbers(8,2)"
   ]
  },
  {
   "cell_type": "code",
   "execution_count": 5,
   "id": "3f5e4e48-8cd4-45e7-9b8a-9d24b8b852f9",
   "metadata": {},
   "outputs": [
    {
     "data": {
      "text/plain": [
       "8"
      ]
     },
     "execution_count": 5,
     "metadata": {},
     "output_type": "execute_result"
    }
   ],
   "source": [
    "# Can the con function we defined before be used to add two integers or strings?\n",
    "def con(a, b):\n",
    "    return(a + b)\n",
    "# Can this be used to add two integers or strings.\n",
    "\n",
    "# Yes\n",
    "con(4,4)"
   ]
  },
  {
   "cell_type": "code",
   "execution_count": 6,
   "id": "4dcb4ad7-f4d4-4195-a016-365abc512d59",
   "metadata": {},
   "outputs": [
    {
     "data": {
      "text/plain": [
       "['a', 1, 'b', 1]"
      ]
     },
     "execution_count": 6,
     "metadata": {},
     "output_type": "execute_result"
    }
   ],
   "source": [
    "# Can the con function we defined before be used to concatenate lists or tuples?\n",
    "# Yes\n",
    "con(['a', 1], ['b', 1])"
   ]
  },
  {
   "cell_type": "code",
   "execution_count": null,
   "id": "728e18fe-b7d9-4acd-b9dd-7f80e0da1544",
   "metadata": {},
   "outputs": [],
   "source": []
  }
 ],
 "metadata": {
  "kernelspec": {
   "display_name": "Python",
   "language": "python",
   "name": "conda-env-python-py"
  },
  "language_info": {
   "codemirror_mode": {
    "name": "ipython",
    "version": 3
   },
   "file_extension": ".py",
   "mimetype": "text/x-python",
   "name": "python",
   "nbconvert_exporter": "python",
   "pygments_lexer": "ipython3",
   "version": "3.6.13"
  }
 },
 "nbformat": 4,
 "nbformat_minor": 5
}
