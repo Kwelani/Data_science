{
 "cells": [
  {
   "cell_type": "code",
   "execution_count": null,
   "id": "131f6e4e-3a18-492c-8dc6-e3a3f96e3971",
   "metadata": {},
   "outputs": [],
   "source": [
    "# Quiz on sets"
   ]
  },
  {
   "cell_type": "code",
   "execution_count": 1,
   "id": "23a20a1c-7a6d-4038-bd27-0046e71a8929",
   "metadata": {},
   "outputs": [
    {
     "data": {
      "text/plain": [
       "{'electronic music', 'house', 'rap'}"
      ]
     },
     "execution_count": 1,
     "metadata": {},
     "output_type": "execute_result"
    }
   ],
   "source": [
    "# Covert the list ['rap','house','electronic music', 'rap'] to a set.\n",
    "set(['rap','house','electronic music', 'rap'])"
   ]
  },
  {
   "cell_type": "code",
   "execution_count": 3,
   "id": "b5cb06fd-caab-4689-9305-4335f0c7e563",
   "metadata": {},
   "outputs": [
    {
     "name": "stdout",
     "output_type": "stream",
     "text": [
      "6\n",
      "3\n"
     ]
    }
   ],
   "source": [
    "# list A = [1, 2, 2, 1], set B = set([1, 2, 2, 1]) sum(A) == sum(B)? sum(A) = 6 and sum(B)=3 therefore sum(A) is not equal to sum(B)\n",
    "A = [1,2,2,1]\n",
    "B = set([1,2,2,1])\n",
    "print(sum(A))\n",
    "print(sum(B))"
   ]
  },
  {
   "cell_type": "code",
   "execution_count": 6,
   "id": "5178f44c-161c-4020-a51e-0f4bc53e41c7",
   "metadata": {},
   "outputs": [
    {
     "name": "stdout",
     "output_type": "stream",
     "text": [
      "{'Back in Black', 'Thriller', 'The Dark Side of the Moon', 'AC/DC'}\n"
     ]
    }
   ],
   "source": [
    "# Create a new set album_set3 that is the union of album_set1 and album_set2\n",
    "album_set1 = set([\"Thriller\", 'AC/DC', 'Back in Black'])\n",
    "album_set2 = set([ \"AC/DC\", \"Back in Black\", \"The Dark Side of the Moon\"])\n",
    "\n",
    "album_set3 = album_set1.union(album_set2)\n",
    "print(album_set3)"
   ]
  },
  {
   "cell_type": "code",
   "execution_count": 7,
   "id": "a650379f-0562-433c-9e78-9e589efe5a0b",
   "metadata": {},
   "outputs": [
    {
     "data": {
      "text/plain": [
       "False"
      ]
     },
     "execution_count": 7,
     "metadata": {},
     "output_type": "execute_result"
    }
   ],
   "source": [
    "# Check if set album_set1 is a subset of album_set2\n",
    "album_set1.issubset(album_set2)"
   ]
  },
  {
   "cell_type": "code",
   "execution_count": null,
   "id": "acef05e6-eed7-4da0-b2e5-18b4e5b01342",
   "metadata": {},
   "outputs": [],
   "source": []
  }
 ],
 "metadata": {
  "kernelspec": {
   "display_name": "Python",
   "language": "python",
   "name": "conda-env-python-py"
  },
  "language_info": {
   "codemirror_mode": {
    "name": "ipython",
    "version": 3
   },
   "file_extension": ".py",
   "mimetype": "text/x-python",
   "name": "python",
   "nbconvert_exporter": "python",
   "pygments_lexer": "ipython3",
   "version": "3.6.13"
  }
 },
 "nbformat": 4,
 "nbformat_minor": 5
}
